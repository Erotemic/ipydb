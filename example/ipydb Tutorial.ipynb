{
 "cells": [
  {
   "cell_type": "markdown",
   "metadata": {},
   "source": [
    "### load extention"
   ]
  },
  {
   "cell_type": "code",
   "execution_count": 1,
   "metadata": {
    "collapsed": false,
    "scrolled": true
   },
   "outputs": [
    {
     "name": "stdout",
     "output_type": "stream",
     "text": [
      "\n",
      "Load ipydb extension done, type %ipydb_help for documentation of ipydb\n"
     ]
    }
   ],
   "source": [
    "%load_ext ipydb"
   ]
  },
  {
   "cell_type": "code",
   "execution_count": 2,
   "metadata": {
    "collapsed": false,
    "scrolled": false
   },
   "outputs": [],
   "source": [
    "%sql  select * from aaron_test_metrics where key like '%%retention_us_organic%%' and app='ruby';"
   ]
  },
  {
   "cell_type": "code",
   "execution_count": null,
   "metadata": {
    "collapsed": true
   },
   "outputs": [],
   "source": []
  },
  {
   "cell_type": "code",
   "execution_count": null,
   "metadata": {
    "collapsed": true
   },
   "outputs": [],
   "source": []
  },
  {
   "cell_type": "code",
   "execution_count": 2,
   "metadata": {
    "collapsed": false
   },
   "outputs": [
    {
     "name": "stdout",
     "output_type": "stream",
     "text": [
      "Welcome to ipydb 0.0.2!\n",
      "\n",
      "ipydb has added the following `magic` commands to your ipython session:\n",
      "-------------------\n",
      "    %begin             Start a transaction.\n",
      "    %commit            Commit active transaction, if one exists.\n",
      "    %connect           Connect to a database using a configuration 'nickname'.\n",
      "    %connecturl        Connect to a database using an SqlAlchemy style connection URL.\n",
      "    %debug_ipydb       Toggle debugging mode for ipydb.\n",
      "    %describe          Print information about table: columns and keys.\n",
      "    %engine            Returns the current SqlAlchemy engine/connection.\n",
      "    %fields            Show a list of fields and data types for the given table.\n",
      "    %fks               Shows a list of foreign keys for the given table.\n",
      "    %flushmetadata     Flush ipydb's schema caches for the current connection.\n",
      "    %get_ipydb         Return the active ipdyb plugin instance.\n",
      "    %ipydb_help        Show this help message.\n",
      "    %joins             Shows a list of all joins involving a given table.\n",
      "    %references        Shows a list of all foreign keys that reference the given field.\n",
      "    %rereflect         Force re-loading of completion metadata.\n",
      "    %rollback          Rollback active transaction, if one exists.\n",
      "    %runsql            Run delimited SQL statements from a file\n",
      "    %saveconnection    Save current connection to ~/.db-connections file.\n",
      "    %set_reflection    Toggle schema reflection.\n",
      "    %showsql           Toggle SQL statement logging from SqlAlchemy.\n",
      "    %sql               Run an sql statement against the current ipydb connection.\n",
      "    %sqlformat         Change the output format.\n",
      "    %tables            Show a list of tables for the current db connection.\n",
      "    %views             Show a list of views for the current db connection.\n",
      "-------------------\n",
      "\n",
      "You can get detailed usage information for any of the above commands \n",
      "by typing %magic_command_name? For example, to get help on %connect, type\n",
      "\n",
      "    %connect?\n",
      "\n",
      "Get started by connecting to a database using %connect_url or %connect\n"
     ]
    }
   ],
   "source": [
    "%ipydb_help"
   ]
  },
  {
   "cell_type": "code",
   "execution_count": null,
   "metadata": {
    "collapsed": true
   },
   "outputs": [],
   "source": []
  }
 ],
 "metadata": {
  "kernelspec": {
   "display_name": "Python 2",
   "language": "python",
   "name": "python2"
  },
  "language_info": {
   "codemirror_mode": {
    "name": "ipython",
    "version": 2
   },
   "file_extension": ".py",
   "mimetype": "text/x-python",
   "name": "python",
   "nbconvert_exporter": "python",
   "pygments_lexer": "ipython2",
   "version": "2.7.9"
  }
 },
 "nbformat": 4,
 "nbformat_minor": 0
}
