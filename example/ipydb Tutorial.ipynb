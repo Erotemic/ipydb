{
 "cells": [
  {
   "cell_type": "markdown",
   "metadata": {},
   "source": [
    "### load extention"
   ]
  },
  {
   "cell_type": "code",
   "execution_count": 1,
   "metadata": {
    "collapsed": false,
    "scrolled": true
   },
   "outputs": [
    {
     "name": "stdout",
     "output_type": "stream",
     "text": [
      "\n",
      "Load ipydb extension done, type %ipydb_help for documentation of ipydb\n"
     ]
    }
   ],
   "source": [
    "%load_ext ipydb"
   ]
  },
  {
   "cell_type": "code",
   "execution_count": 2,
   "metadata": {
    "collapsed": false,
    "scrolled": false
   },
   "outputs": [],
   "source": [
    "%sql  select * from aaron_test_metrics where key like '%%retention_us_organic%%' and app='ruby';"
   ]
  },
  {
   "cell_type": "code",
   "execution_count": 2,
   "metadata": {
    "collapsed": false
   },
   "outputs": [
    {
     "name": "stdout",
     "output_type": "stream",
     "text": [
      "ipydb is connecting to: postgresql://:xxx@localhost:5432/hacking\n"
     ]
    }
   ],
   "source": [
    "%connect mydb"
   ]
  },
  {
   "cell_type": "code",
   "execution_count": 3,
   "metadata": {
    "collapsed": false
   },
   "outputs": [],
   "source": [
    "a = %sql -P select * from app_user limit 100;"
   ]
  },
  {
   "cell_type": "code",
   "execution_count": 5,
   "metadata": {
    "collapsed": false
   },
   "outputs": [
    {
     "data": {
      "text/html": [
       "<div>\n",
       "<table border=\"1\" class=\"dataframe\">\n",
       "  <thead>\n",
       "    <tr style=\"text-align: right;\">\n",
       "      <th></th>\n",
       "      <th>first_name</th>\n",
       "      <th>last_name</th>\n",
       "      <th>email</th>\n",
       "      <th>password</th>\n",
       "    </tr>\n",
       "  </thead>\n",
       "  <tbody>\n",
       "    <tr>\n",
       "      <th>0</th>\n",
       "      <td>Carmen</td>\n",
       "      <td>Vega</td>\n",
       "      <td>carmenliceth@hotmail.com</td>\n",
       "      <td>894e5cd579017a7d24bdacfa63df16be8971ede8d8fae8...</td>\n",
       "    </tr>\n",
       "    <tr>\n",
       "      <th>1</th>\n",
       "      <td>Lindsay</td>\n",
       "      <td>Adams</td>\n",
       "      <td>adamsjli@yahoo.com</td>\n",
       "      <td>3fcac13650e7fb141bb17adef1518783bbe3383619601e...</td>\n",
       "    </tr>\n",
       "    <tr>\n",
       "      <th>2</th>\n",
       "      <td>nina</td>\n",
       "      <td>jan</td>\n",
       "      <td>she_14_71@hotmail.co.uk</td>\n",
       "      <td>9d24baf0f57b76f77cae1b36d4745e803759c2efabbc40...</td>\n",
       "    </tr>\n",
       "    <tr>\n",
       "      <th>3</th>\n",
       "      <td>stacy</td>\n",
       "      <td>Lichtenberg</td>\n",
       "      <td>zleaka@gmail.com</td>\n",
       "      <td>d5763d438e7a348209362a52c784a6576671dce7f61d00...</td>\n",
       "    </tr>\n",
       "    <tr>\n",
       "      <th>4</th>\n",
       "      <td>Christine</td>\n",
       "      <td>Ayala</td>\n",
       "      <td>christine.marie@live.ca</td>\n",
       "      <td>db4549836985d17b67db16a323c60273066d3d371385a8...</td>\n",
       "    </tr>\n",
       "  </tbody>\n",
       "</table>\n",
       "</div>"
      ],
      "text/plain": [
       "  first_name    last_name                     email  \\\n",
       "0     Carmen         Vega  carmenliceth@hotmail.com   \n",
       "1    Lindsay        Adams        adamsjli@yahoo.com   \n",
       "2       nina          jan   she_14_71@hotmail.co.uk   \n",
       "3      stacy  Lichtenberg          zleaka@gmail.com   \n",
       "4  Christine        Ayala   christine.marie@live.ca   \n",
       "\n",
       "                                            password  \n",
       "0  894e5cd579017a7d24bdacfa63df16be8971ede8d8fae8...  \n",
       "1  3fcac13650e7fb141bb17adef1518783bbe3383619601e...  \n",
       "2  9d24baf0f57b76f77cae1b36d4745e803759c2efabbc40...  \n",
       "3  d5763d438e7a348209362a52c784a6576671dce7f61d00...  \n",
       "4  db4549836985d17b67db16a323c60273066d3d371385a8...  "
      ]
     },
     "execution_count": 5,
     "metadata": {},
     "output_type": "execute_result"
    }
   ],
   "source": [
    "a.head(5)"
   ]
  },
  {
   "cell_type": "code",
   "execution_count": null,
   "metadata": {
    "collapsed": true
   },
   "outputs": [],
   "source": []
  },
  {
   "cell_type": "code",
   "execution_count": 2,
   "metadata": {
    "collapsed": false
   },
   "outputs": [
    {
     "name": "stdout",
     "output_type": "stream",
     "text": [
      "Welcome to ipydb 0.0.2!\n",
      "\n",
      "ipydb has added the following `magic` commands to your ipython session:\n",
      "-------------------\n",
      "    %begin             Start a transaction.\n",
      "    %commit            Commit active transaction, if one exists.\n",
      "    %connect           Connect to a database using a configuration 'nickname'.\n",
      "    %connecturl        Connect to a database using an SqlAlchemy style connection URL.\n",
      "    %debug_ipydb       Toggle debugging mode for ipydb.\n",
      "    %describe          Print information about table: columns and keys.\n",
      "    %engine            Returns the current SqlAlchemy engine/connection.\n",
      "    %fields            Show a list of fields and data types for the given table.\n",
      "    %fks               Shows a list of foreign keys for the given table.\n",
      "    %flushmetadata     Flush ipydb's schema caches for the current connection.\n",
      "    %get_ipydb         Return the active ipdyb plugin instance.\n",
      "    %ipydb_help        Show this help message.\n",
      "    %joins             Shows a list of all joins involving a given table.\n",
      "    %references        Shows a list of all foreign keys that reference the given field.\n",
      "    %rereflect         Force re-loading of completion metadata.\n",
      "    %rollback          Rollback active transaction, if one exists.\n",
      "    %runsql            Run delimited SQL statements from a file\n",
      "    %saveconnection    Save current connection to ~/.db-connections file.\n",
      "    %set_reflection    Toggle schema reflection.\n",
      "    %showsql           Toggle SQL statement logging from SqlAlchemy.\n",
      "    %sql               Run an sql statement against the current ipydb connection.\n",
      "    %sqlformat         Change the output format.\n",
      "    %tables            Show a list of tables for the current db connection.\n",
      "    %views             Show a list of views for the current db connection.\n",
      "-------------------\n",
      "\n",
      "You can get detailed usage information for any of the above commands \n",
      "by typing %magic_command_name? For example, to get help on %connect, type\n",
      "\n",
      "    %connect?\n",
      "\n",
      "Get started by connecting to a database using %connect_url or %connect\n"
     ]
    }
   ],
   "source": [
    "%ipydb_help"
   ]
  },
  {
   "cell_type": "code",
   "execution_count": null,
   "metadata": {
    "collapsed": true
   },
   "outputs": [],
   "source": []
  }
 ],
 "metadata": {
  "kernelspec": {
   "display_name": "Python 2",
   "language": "python",
   "name": "python2"
  },
  "language_info": {
   "codemirror_mode": {
    "name": "ipython",
    "version": 2
   },
   "file_extension": ".py",
   "mimetype": "text/x-python",
   "name": "python",
   "nbconvert_exporter": "python",
   "pygments_lexer": "ipython2",
   "version": "2.7.6"
  }
 },
 "nbformat": 4,
 "nbformat_minor": 0
}
